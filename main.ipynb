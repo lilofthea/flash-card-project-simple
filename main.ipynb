{
 "cells": [
  {
   "cell_type": "markdown",
   "metadata": {},
   "source": [
    "kaynak: https://realpython.com/python-gui-tkinter/"
   ]
  },
  {
   "cell_type": "markdown",
   "metadata": {},
   "source": [
    "### Create a window and label"
   ]
  },
  {
   "cell_type": "code",
   "execution_count": 1,
   "metadata": {},
   "outputs": [],
   "source": [
    "import tkinter as tk\n",
    "\n",
    "window = tk.Tk() # PENCEREMİZİ (MAIN CLASS'IMIZI) OLUŞTURDUK.\n",
    "window.title(\"İLK DERS\") # ARAYÜZ BAŞLIĞI...\n",
    "\n",
    "window.geometry(\"800x600+500-200\") # PENCERE BOYUTU VE KONUMU İÇİN... XxY oranı ile boyutunu... ilk başta sol üste açılıyor ama değiştirebiliriz, +-x +-y konumunda hareket ettirir. \n",
    "\n",
    "window.minsize(400,400) # MAX PENCERE BÜYÜKLÜĞÜ (x,y)\n",
    "window.maxsize(800,800) # MİN PENCERE BÜYÜKLÜĞÜ\n",
    "window.resizable(True,False) # Eksenler ile oynansın mı sabit mi kalsın..? Şu an x ile oynanabilir üstteki sınırlar dahilinde... y eks için hiç hareket edemez.\n",
    "\n",
    "window.state(\"normal\")\n",
    "window.state(\"zoomed\") #pencere max, küçültülmüş ve normal yapılabilir.\n",
    "window.state(\"iconic\")\n",
    "\n",
    "window.wm_attributes(\"-alpha\",0.5) #pencere saydamlaştırılabilir.\n",
    "\n",
    "\n",
    "label1 = tk.Label(window,text=\"HOŞ GELDİNİZ\").pack() # label(etiket) ile yazı yazabilir ve bir çok şey yapabiliriz.    .pack() yapmazsak gözükmez, paketleme gibi...\n",
    "label2 = tk.Label(window,text=\"deneme 1\",\n",
    "                background=\"red\",\n",
    "                foreground=\"white\",\n",
    "                font=\"times 14 italic\",\n",
    "                width=10,\n",
    "                height=5).pack()\n",
    "label3 = tk.Label(window,text=\"deneme 2\",bg=\"cyan\",fg=\"orange\",font=\"blok 20 bold\",width=11).pack() \n",
    "\n",
    "window.mainloop() # PENCERE SÜREKLİ AÇIK KALSIN - BİR KOŞULA VEYA İSTEĞE GÖRE KAPANSIN..."
   ]
  },
  {
   "cell_type": "markdown",
   "metadata": {},
   "source": [
    "### Create a button"
   ]
  },
  {
   "cell_type": "code",
   "execution_count": 2,
   "metadata": {},
   "outputs": [
    {
     "name": "stdout",
     "output_type": "stream",
     "text": [
      "Butona basıldı.\n",
      "Butona basıldı.\n",
      "Butona basıldı.\n",
      "Butona basıldı.\n"
     ]
    }
   ],
   "source": [
    "import tkinter as tk\n",
    "\n",
    "pencere = tk.Tk()\n",
    "pencere.title(\"Buton oluşturuyoruuuzzz...\")\n",
    "pencere.geometry(\"400x300+800-500\")\n",
    "\n",
    "def komut():\n",
    "    print(\"Butona basıldı.\")\n",
    "\n",
    "buton1 = tk.Button(text=\"BUTON-1\",fg=\"red\",bg=\"purple\",command=komut).pack(side=\"left\")\n",
    "buton2 = tk.Button(text=\"BUTON-2\",bg=\"black\",fg=\"white\",height=10,width=10,command=komut).pack(side=\"right\")\n",
    "\n",
    "\n",
    "pencere.mainloop()"
   ]
  },
  {
   "cell_type": "markdown",
   "metadata": {},
   "source": [
    "### The First App"
   ]
  },
  {
   "cell_type": "code",
   "execution_count": 8,
   "metadata": {},
   "outputs": [],
   "source": [
    "\"\"\"1-50 arası rastegele 5 sayı seçelim ve göster adında butona tıklayınca 5 değeri label'a yazdırsın.\n",
    "Değerleri saydamlaştır butonuna basınca penceremiz saydamlaşsın.\n",
    "Eski haline gelmesi için döndür adında buton olsun.\n",
    "MAXSIZE ve MINSIZE butonları ile pencere max min oranda olsun\"\"\"\n",
    "\n",
    "import tkinter as tk\n",
    "import random\n",
    "\n",
    "master = tk.Tk()\n",
    "master.title(\"Rastegele Sayı Yazdırıcı\")\n",
    "master.geometry(\"800x600+450-200\")\n",
    "\n",
    "def sayi_sec():\n",
    "    sayilar = []\n",
    "    for i in range(5):\n",
    "        sayi = random.randrange(1,51)\n",
    "        sayilar.append(sayi)\n",
    "    return sayilar\n",
    "\n",
    "def goster_label():\n",
    "    tk.Label(text=sayi_sec(),font=\"100\",bg=\"cyan\",width=30).pack()\n",
    "def saydam_yap():\n",
    "    master.wm_attributes(\"-alpha\",0.5)\n",
    "def duzelt():\n",
    "    master.state(\"normal\")\n",
    "    master.wm_attributes(\"-alpha\",1)\n",
    "def maxci():\n",
    "    master.state(\"zoomed\")\n",
    "def minci():\n",
    "    master.state(\"iconic\")\n",
    "def kapat():\n",
    "    master.destroy()  # .destroy() ile pencereyi kapatabiliriz!!!\n",
    "\n",
    "goster = tk.Button(master,text=\"GÖSTER\",bg=\"black\",fg=\"red\",command=goster_label).pack()\n",
    "saydamcı = tk.Button(master,text=\"SAYDAM YAP\",command=saydam_yap).pack()\n",
    "max_yap = tk.Button(master,text=\"MAXSIZE\",command=maxci).pack()\n",
    "min_yap = tk.Button(master,text=\"MINSIZE\",command=minci).pack()\n",
    "returnn = tk.Button(master,text=\"ESKİ HAL\",command=duzelt).pack()\n",
    "kapat = tk.Button(master,text=\"KAPAT\",command=kapat).pack()\n",
    "\n",
    "master.mainloop()\n"
   ]
  },
  {
   "cell_type": "markdown",
   "metadata": {},
   "source": [
    "### Create a entry box"
   ]
  },
  {
   "cell_type": "markdown",
   "metadata": {},
   "source": [
    "HER ZAMAN .pack() vb. yapmak iyi olmaz. DEĞİŞKENİMİZİ NoneType YAPIYOR...\n",
    "\n",
    "Ve görüyoruz ki... LABEL, BUTTON VB BİR DICTIONARY GİBİ !!!!!"
   ]
  },
  {
   "cell_type": "code",
   "execution_count": 1,
   "metadata": {},
   "outputs": [],
   "source": [
    "import tkinter as tk\n",
    "\n",
    "form = tk.Tk()\n",
    "form.title(\"ENTRY DERSİ\")\n",
    "form.geometry(\"800x600+600-300\")\n",
    "\n",
    "nameLabel = tk.Label(text=\"Name:\",bg=\"cyan\").pack()\n",
    "entry1 = tk.Entry() #entry değişkenlerimizi tanımlayabiliyoruz. Altta parametre alabildiği görülüyor.\n",
    "entry1.pack()\n",
    "\n",
    "passwLabel = tk.Label(text=\"Password:\",bg=\"cyan\").pack()\n",
    "entry_passw = tk.Entry(show=\"*\",font=\"bold\")\n",
    "entry_passw.pack()\n",
    "\n",
    "def yazdir():\n",
    "    yazdirLabel[\"text\"] = entry1.get()  #SÖZLÜK GİBİ....\n",
    "def entry_sil():\n",
    "    entry1.delete(0,\"end\")  # SİLME İŞLEMİ...\n",
    "    entry_passw.delete(0,\"end\")\n",
    "    yazdirButton[\"fg\"] = \"red\"\n",
    "\n",
    "yazdirButton = tk.Button(text=\"GİR\",fg=\"black\",bg=\"yellow\",command=yazdir)\n",
    "yazdirButton.pack()\n",
    "silButton = tk.Button(text=\"SİL\",fg=\"yellow\",bg=\"black\",command=entry_sil)\n",
    "silButton.pack()\n",
    "\n",
    "yazdirLabel = tk.Label(text=\"İsminiz buraya gelecek.\")\n",
    "yazdirLabel.pack()\n",
    "\n",
    "form.mainloop()"
   ]
  },
  {
   "cell_type": "markdown",
   "metadata": {},
   "source": [
    "### Pack - Geometrik Yönetici 1"
   ]
  },
  {
   "cell_type": "markdown",
   "metadata": {},
   "source": [
    ".pack() kullanımı kodların yani üstte buton mu var label mı var değişir. Konum belirlemek biraz sıkıntıdır."
   ]
  },
  {
   "cell_type": "markdown",
   "metadata": {},
   "source": [
    "1-side = \"left, right, top, bottom\"  OLABİLİR. İLK YAZILANI EN ... TARAFA YAZAR.\n",
    "\n",
    "2-fill(doldurmak) = \"x,y\" OLABİLİR. .pack() edilen şey X veya Y veya 2'SİNİ DE EKSENİNİ TAM KAPLAR.\n",
    "\n",
    "3-padx, pady= [0,sona kadar] (girilen konumlara göre yer değişir.) --- ipadx, ipady= [0,sona kadar] (buton, label konumu değişmez ama çerçeveleri büyür.)\n",
    "\n",
    "3-expand(genişletmek) = 0,1 OLABİLİR. \n",
    "\n",
    "4-anchor = \"n,s,e,w,center\" (kuzeybatı vb de olabilir.) OLABİLİR. KONUMLANDIRMA İÇİN BAŞKA METOD. ( expand = 1 olmadan olmuyor.)\n",
    "\n",
    "1, 2 ve 3 güzel - 4 ve 5 değişik"
   ]
  },
  {
   "cell_type": "code",
   "execution_count": 15,
   "metadata": {},
   "outputs": [],
   "source": [
    "import tkinter as tk\n",
    "\n",
    "form = tk.Tk()\n",
    "form.title(\"PACK DERSİ\")\n",
    "form.geometry(\"800x600+500-300\")\n",
    "\n",
    "label1 = tk.Label(form,text=\"Pack Geo Yöneticisi\",bg=\"cyan\")\n",
    "label1.pack(side=\"left\",fill=\"y\")\n",
    "\n",
    "buton1 = tk.Button(form,text=\"Basma\",bg=\"black\",fg=\"white\")\n",
    "buton1.pack(side=\"top\",fill=\"x\")\n",
    "\n",
    "form.mainloop()"
   ]
  },
  {
   "cell_type": "code",
   "execution_count": 26,
   "metadata": {},
   "outputs": [],
   "source": [
    "import tkinter as tk\n",
    "\n",
    "form = tk.Tk()\n",
    "form.title(\"PACK DERSİ\")\n",
    "form.geometry(\"1920x1080\")\n",
    "\n",
    "buton1 = tk.Button(form,text=\"Basma\",bg=\"black\",fg=\"white\")\n",
    "buton1.pack(pady=300,padx=500,ipadx=40,ipady=50)\n",
    "\n",
    "label1 = tk.Label(form,text=\"Pack Geo Yöneticisi\",bg=\"cyan\")\n",
    "label1.pack(padx=1,pady=10)\n",
    "\n",
    "form.mainloop()"
   ]
  },
  {
   "cell_type": "code",
   "execution_count": 54,
   "metadata": {},
   "outputs": [],
   "source": [
    "import tkinter as tk\n",
    "\n",
    "form = tk.Tk()\n",
    "form.title(\"PACK DERSİ\")\n",
    "form.geometry(\"800x600\")\n",
    "\n",
    "label1 = tk.Label(form,text=\"Pack Geo Yöneticisi\",bg=\"cyan\")\n",
    "label1.pack(expand=1,anchor=\"w\")                                        #BURASI BAYA GARİP KULLANMAYIZ BENCE...\n",
    "\n",
    "buton1 = tk.Button(form,text=\"Basma\",bg=\"black\",fg=\"white\")\n",
    "buton1.pack(side=\"top\")\n",
    "\n",
    "form.mainloop()"
   ]
  },
  {
   "cell_type": "markdown",
   "metadata": {},
   "source": [
    "### Place - Geometrik Yönetici 2"
   ]
  },
  {
   "cell_type": "markdown",
   "metadata": {},
   "source": [
    "x = ... , y = ... olabilir ama pencere hareketliyse sıkıntı olabilir. (sayılar)\n",
    "\n",
    "relx = ... , rely = ... ise pencere hareketine göre şekil alır. (0.1 vb %'sel oran)\n",
    "\n",
    "width (relwidth) ve height (relheight) ise .pack'in ipadx, ipady versiyonu gibidir."
   ]
  },
  {
   "cell_type": "code",
   "execution_count": 32,
   "metadata": {},
   "outputs": [],
   "source": [
    "import tkinter as tk\n",
    "\n",
    "form = tk.Tk()\n",
    "form.title(\"PLACE DERSİ\")\n",
    "form.geometry(\"800x600\")\n",
    "\n",
    "label1 = tk.Label(form,text=\"Place Geo Yöneticisi\",bg=\"cyan\")\n",
    "label1.place(x=100,y=100)\n",
    "\n",
    "buton1 = tk.Button(form,text=\"Basma\",bg=\"black\",fg=\"white\")\n",
    "buton1.place(x=100,y=120)\n",
    "\n",
    "form.mainloop()"
   ]
  },
  {
   "cell_type": "code",
   "execution_count": 2,
   "metadata": {},
   "outputs": [],
   "source": [
    "import tkinter as tk\n",
    "\n",
    "form = tk.Tk()\n",
    "form.title(\"PLACE DERSİ\")\n",
    "form.geometry(\"800x600\")\n",
    "\n",
    "label1 = tk.Label(form,text=\"Place Geo Yöneticisi\",bg=\"cyan\")\n",
    "label1.place(relx=0.5,rely=0.5)\n",
    "\n",
    "buton1 = tk.Button(form,text=\"Basma\",bg=\"black\",fg=\"white\")\n",
    "buton1.place(x=100,y=120,relheight=0.3,relwidth=0.2)\n",
    "\n",
    "form.mainloop()"
   ]
  },
  {
   "cell_type": "code",
   "execution_count": null,
   "metadata": {},
   "outputs": [],
   "source": [
    "import tkinter as tk\n",
    "\n",
    "form = tk.Tk()\n",
    "form.title(\"PLACE DERSİ\")\n",
    "form.geometry(\"800x600\")\n",
    "\n",
    "label1 = tk.Label(form,text=\"Place Geo Yöneticisi\",bg=\"cyan\")\n",
    "label1.place(relx=0.5,rely=0.5)\n",
    "\n",
    "buton1 = tk.Button(form,text=\"Basma\",bg=\"black\",fg=\"white\")\n",
    "buton1.place(x=100,y=120,relheight=0.3,relwidth=0.2)\n",
    "\n",
    "form.mainloop()"
   ]
  },
  {
   "cell_type": "markdown",
   "metadata": {},
   "source": [
    "### The Second App - Log in, Sign up App"
   ]
  },
  {
   "cell_type": "code",
   "execution_count": 3,
   "metadata": {},
   "outputs": [],
   "source": [
    "\"\"\" Email:     \n",
    "    Şifre:                 (şifre gözüksün mü?)   \n",
    "           Kaydol | Giriş\n",
    "       (kaydolmadıysa)\n",
    "\n",
    "    Ad-Soyad:     \n",
    "    Email:\n",
    "    Şifre:                 (şifre gözüksün mü?)    \n",
    "\"\"\"\n",
    "\n",
    "from tkinter import *\n",
    "\n",
    "app = Tk()\n",
    "app.title(\"Log in-Sign up\")\n",
    "app.geometry(\"500x300\")\n",
    "app.resizable(False,False)\n",
    "\n",
    "emailLabel = Label(text=\"E-mail:\",bg=\"green\",fg=\"white\",font=\"times 15 bold\")\n",
    "emailLabel.place(x=30,y=10,width=92)\n",
    "\n",
    "emailEntry = Entry(fg=\"white\",bg=\"black\")\n",
    "emailEntry.place(x=125,y=15)\n",
    "\n",
    "passLabel = Label(text=\"Password:\",bg=\"green\",fg=\"white\",font=\"times 15 bold\")\n",
    "passLabel.place(x=30,y=45)\n",
    "\n",
    "passEntry = Entry(show=\"*\",fg=\"white\",bg=\"black\")\n",
    "passEntry.place(x=125,y=49)\n",
    "\n",
    "def goster():\n",
    "    passEntry[\"show\"] = \"\"\n",
    "def gizle():\n",
    "    passEntry[\"show\"] = \"*\"\n",
    "    \n",
    "def login():\n",
    "    #BURAYA MESSAGE BOX EKLEMEYİ UNUTMA!!!\n",
    "    with open(\"loginverileri.txt\",\"a\") as file:\n",
    "        file.writelines(emailEntry.get()+\" \")\n",
    "        file.writelines(passEntry.get()+\"\\n\")\n",
    "    emailEntry.delete(0,\"end\")\n",
    "    passEntry.delete(0,\"end\")\n",
    "\n",
    "def signup():\n",
    "    adLabel = Label(text=\"Ad Soyad:\",bg=\"green\",fg=\"white\",font=\"times 15 bold\")\n",
    "    adLabel.place(x=30,y=110)\n",
    "\n",
    "    adEntry = Entry(fg=\"white\",bg=\"black\")\n",
    "    adEntry.place(x=125,y=115)\n",
    "\n",
    "    emailLabelSU = Label(text=\"E-mail:\",bg=\"green\",fg=\"white\",font=\"times 15 bold\")\n",
    "    emailLabelSU.place(x=30,y=145,width=92)\n",
    "\n",
    "    emailEntrySU = Entry(fg=\"white\",bg=\"black\")\n",
    "    emailEntrySU.place(x=125,y=150)\n",
    "\n",
    "    passLabelSU = Label(text=\"Password:\",bg=\"green\",fg=\"white\",font=\"times 15 bold\")\n",
    "    passLabelSU.place(x=30,y=180)\n",
    "\n",
    "    passEntrySU = Entry(show=\"*\",fg=\"white\",bg=\"black\")\n",
    "    passEntrySU.place(x=125,y=186)\n",
    "\n",
    "\n",
    "    my_image_right = PhotoImage(file=\"images/right.png\")#path/to/image_file.png\")\n",
    "    right_button = Button(image=my_image_right,command=gizle)\n",
    "    \"\"\"photo = PhotoImage(file=\"1.png\")\n",
    "    tikButton = Button(app,image=photo,command=gizle)\"\"\"\n",
    "    right_button.pack()\n",
    "\n",
    "gosterButton = Button(text=\"Show\",command=goster)\n",
    "gosterButton.place(x=250,y=45)\n",
    "\n",
    "gizleButton = Button(text=\"Hide\",command=gizle)\n",
    "gizleButton.place(x=290,y=45)\n",
    "\n",
    "girisButton = Button(text=\"Log in\",command=login,bg=\"cyan\")\n",
    "girisButton.place(x=130,y=80)\n",
    "\n",
    "kaydolButton = Button(text=\"Sign up\",command=signup,bg=\"cyan\")\n",
    "kaydolButton.place(x=180,y=80)\n",
    "\n",
    "app.mainloop()"
   ]
  },
  {
   "cell_type": "markdown",
   "metadata": {},
   "source": [
    "### Creat a check button"
   ]
  },
  {
   "cell_type": "code",
   "execution_count": null,
   "metadata": {},
   "outputs": [],
   "source": []
  }
 ],
 "metadata": {
  "interpreter": {
   "hash": "a78fcce006714b0677328c6cee94c0130e05581b86dacbeb9a9b6ca57e54a95c"
  },
  "kernelspec": {
   "display_name": "Python 3.9.10 64-bit (windows store)",
   "language": "python",
   "name": "python3"
  },
  "language_info": {
   "codemirror_mode": {
    "name": "ipython",
    "version": 3
   },
   "file_extension": ".py",
   "mimetype": "text/x-python",
   "name": "python",
   "nbconvert_exporter": "python",
   "pygments_lexer": "ipython3",
   "version": "3.10.1"
  },
  "orig_nbformat": 4
 },
 "nbformat": 4,
 "nbformat_minor": 2
}
